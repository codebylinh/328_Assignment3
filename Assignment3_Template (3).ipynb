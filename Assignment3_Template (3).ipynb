{
  "cells": [
    {
      "cell_type": "markdown",
      "id": "e1950758",
      "metadata": {
        "id": "e1950758"
      },
      "source": [
        "[![Open In Colab](https://colab.research.google.com/assets/colab-badge.svg)](https://colab.research.google.com/github/your-repo/CIFAR10_FFNN_Lab.ipynb)\n",
        "\n",
        "> Click to launch in Google Colab. In Colab: **Runtime → Change runtime type → GPU**."
      ]
    },
    {
      "cell_type": "markdown",
      "id": "120a5940",
      "metadata": {
        "id": "120a5940"
      },
      "source": [
        "# Image Classification (CIFAR‑10) with a Convolutional Neural Network: Training Dynamics & Evaluation\n",
        "\n",
        "\n",
        "**Weighting (Total 5%)**\n",
        "- **In‑Lab (3 hours):**\n",
        "  - A1: Pipeline working on subset, with logs/curves (1.0%)\n",
        "  - A2: Architecture is correct (no flatten at input), shapes verified basic accuracy target met (0.8%)\n",
        "  - A3: Clean code & brief in lab notes (0.2%)\n",
        "  - A4: Save and load model checkpoints (NOT graded, but recommended)\n",
        "\n",
        "- **Take‑Home (1 week):**\n",
        "  - B1: Full data training + ≥2 augmentations, settings documented (1.0%)\n",
        "  - B2: Results quality (within reasonable band for your setup) + clear plots/tables (1.0%)\n",
        "  - B3: Fair comparison to A2 with thoughtful discussion (0.7%)\n",
        "  - B4: Reproducibility (seeds, README, runtime notes) (0.3%)\n",
        "\n",
        "**Learning goals**\n",
        "\n",
        "By the end of this assignment, you should be able to:\n",
        "- Explain why CNNs do not flatten the image at the input and how spatial structure is preserved layer to layer.\n",
        "- Implement a compact CNN (Conv→ReLU→Pool stacks; optional BatchNorm/Dropout) and train it on CIFAR 10.\n",
        "- Use common augmentations (random crop/flip/colour jitter/cutout) and discuss their impact on generalization.\n",
        "- Run a fair comparison against a fully connected baseline (from A2) using matched training setups and report metrics clearly."
      ]
    },
    {
      "cell_type": "markdown",
      "id": "6630463f",
      "metadata": {
        "id": "6630463f"
      },
      "source": [
        "**Instructions**: Run cells top‑to‑bottom. For the take‑home, edit the designated section and keep your changes minimal but clear."
      ]
    },
    {
      "cell_type": "code",
      "execution_count": 1,
      "id": "979c49a1",
      "metadata": {
        "colab": {
          "base_uri": "https://localhost:8080/"
        },
        "id": "979c49a1",
        "outputId": "d4fbdc8e-c831-4298-e06d-a516ad53b30d"
      },
      "outputs": [
        {
          "output_type": "stream",
          "name": "stdout",
          "text": [
            "Using device: cuda\n"
          ]
        }
      ],
      "source": [
        "# ✅ Device setup (CPU/GPU)\n",
        "import torch\n",
        "device = torch.device('cuda' if torch.cuda.is_available() else 'cpu')\n",
        "print('Using device:', device)\n",
        "\n",
        "from collections.abc import Mapping, Sequence\n",
        "def to_device(obj, device=device):\n",
        "    if hasattr(obj, 'to'):\n",
        "        try:\n",
        "            return obj.to(device)\n",
        "        except Exception:\n",
        "            return obj\n",
        "    if isinstance(obj, Mapping):\n",
        "        return obj.__class__({k: to_device(v, device) for k, v in obj.items()})\n",
        "    if isinstance(obj, Sequence) and not isinstance(obj, (str, bytes)):\n",
        "        return obj.__class__([to_device(v, device) for v in obj])\n",
        "    return obj"
      ]
    },
    {
      "cell_type": "markdown",
      "source": [
        "Importing some required libraries. You can add more if needed."
      ],
      "metadata": {
        "id": "N72j6CB1Q0nE"
      },
      "id": "N72j6CB1Q0nE"
    },
    {
      "cell_type": "code",
      "source": [
        "import torch\n",
        "from torch.utils.data import DataLoader, random_split\n",
        "from torchvision import datasets, transforms\n",
        "import numpy as np"
      ],
      "metadata": {
        "id": "ujdA7TlVQ9aX"
      },
      "id": "ujdA7TlVQ9aX",
      "execution_count": 2,
      "outputs": []
    },
    {
      "cell_type": "markdown",
      "id": "add17f01",
      "metadata": {
        "id": "add17f01"
      },
      "source": [
        "## Part A: Data Loading & Normalization"
      ]
    },
    {
      "cell_type": "code",
      "execution_count": 3,
      "id": "54b227dd",
      "metadata": {
        "colab": {
          "base_uri": "https://localhost:8080/"
        },
        "id": "54b227dd",
        "outputId": "fb4c3a04-caa4-4c90-c024-99642c997002"
      },
      "outputs": [
        {
          "output_type": "execute_result",
          "data": {
            "text/plain": [
              "(45000, 5000, 10000)"
            ]
          },
          "metadata": {},
          "execution_count": 3
        }
      ],
      "source": [
        "import torch\n",
        "from torch.utils.data import DataLoader, random_split\n",
        "from torchvision import datasets, transforms\n",
        "import numpy as np\n",
        "\n",
        "# Load the CIFAR-10 dataset\n",
        "cifar_mean = (0.4914, 0.4822, 0.4465)\n",
        "cifar_std  = (0.2470, 0.2435, 0.2616)\n",
        "train_tf = transforms.Compose([\n",
        "    transforms.ToTensor(),\n",
        "    transforms.Normalize(cifar_mean, cifar_std)\n",
        "])\n",
        "test_tf = transforms.Compose([\n",
        "    transforms.ToTensor(),\n",
        "    transforms.Normalize(cifar_mean, cifar_std)\n",
        "])\n",
        "\n",
        "# DataLoader definitions\n",
        "root = './data'\n",
        "full_train = datasets.CIFAR10(root, train=True, download=True, transform=train_tf)\n",
        "test_ds    = datasets.CIFAR10(root, train=False, download=True, transform=test_tf)\n",
        "val_size = 5000\n",
        "train_size = len(full_train) - val_size\n",
        "train_ds, val_ds = random_split(full_train, [train_size, val_size])\n",
        "\n",
        "batch_size = 256\n",
        "train_loader = DataLoader(train_ds, batch_size=batch_size, shuffle=True, num_workers=2, pin_memory=True)\n",
        "val_loader   = DataLoader(val_ds,   batch_size=batch_size, shuffle=False, num_workers=2, pin_memory=True)\n",
        "test_loader  = DataLoader(test_ds,  batch_size=batch_size, shuffle=False, num_workers=2, pin_memory=True)\n",
        "len(train_ds), len(val_ds), len(test_ds)"
      ]
    },
    {
      "cell_type": "markdown",
      "id": "7e6629f8",
      "metadata": {
        "id": "7e6629f8"
      },
      "source": [
        "## Part A: Model, Training Loop, and Curves (In‑Lab)"
      ]
    },
    {
      "cell_type": "code",
      "execution_count": 4,
      "id": "85662c26",
      "metadata": {
        "id": "85662c26",
        "colab": {
          "base_uri": "https://localhost:8080/",
          "height": 1000
        },
        "outputId": "43feee24-516f-4819-bd35-bc418eed62b2"
      },
      "outputs": [
        {
          "output_type": "stream",
          "name": "stderr",
          "text": []
        },
        {
          "output_type": "stream",
          "name": "stdout",
          "text": [
            "Epoch 01 | train_loss 1.2720 acc 53.71% | val_loss 1.3166 acc 54.38%\n"
          ]
        },
        {
          "output_type": "stream",
          "name": "stderr",
          "text": []
        },
        {
          "output_type": "stream",
          "name": "stdout",
          "text": [
            "Epoch 02 | train_loss 0.8748 acc 69.09% | val_loss 1.0132 acc 62.96%\n"
          ]
        },
        {
          "output_type": "stream",
          "name": "stderr",
          "text": []
        },
        {
          "output_type": "stream",
          "name": "stdout",
          "text": [
            "Epoch 03 | train_loss 0.6925 acc 75.68% | val_loss 0.7818 acc 73.24%\n"
          ]
        },
        {
          "output_type": "stream",
          "name": "stderr",
          "text": []
        },
        {
          "output_type": "stream",
          "name": "stdout",
          "text": [
            "Epoch 04 | train_loss 0.5733 acc 80.20% | val_loss 0.7246 acc 74.52%\n"
          ]
        },
        {
          "output_type": "stream",
          "name": "stderr",
          "text": []
        },
        {
          "output_type": "stream",
          "name": "stdout",
          "text": [
            "Epoch 05 | train_loss 0.4830 acc 83.28% | val_loss 0.6986 acc 76.42%\n"
          ]
        },
        {
          "output_type": "stream",
          "name": "stderr",
          "text": []
        },
        {
          "output_type": "stream",
          "name": "stdout",
          "text": [
            "Epoch 06 | train_loss 0.4172 acc 85.54% | val_loss 0.6704 acc 77.72%\n"
          ]
        },
        {
          "output_type": "stream",
          "name": "stderr",
          "text": []
        },
        {
          "output_type": "stream",
          "name": "stdout",
          "text": [
            "Epoch 07 | train_loss 0.3579 acc 87.65% | val_loss 0.5292 acc 82.00%\n"
          ]
        },
        {
          "output_type": "stream",
          "name": "stderr",
          "text": []
        },
        {
          "output_type": "stream",
          "name": "stdout",
          "text": [
            "Epoch 08 | train_loss 0.3018 acc 89.66% | val_loss 0.5682 acc 80.88%\n"
          ]
        },
        {
          "output_type": "stream",
          "name": "stderr",
          "text": []
        },
        {
          "output_type": "stream",
          "name": "stdout",
          "text": [
            "Epoch 09 | train_loss 0.2569 acc 91.20% | val_loss 0.5671 acc 81.14%\n"
          ]
        },
        {
          "output_type": "stream",
          "name": "stderr",
          "text": []
        },
        {
          "output_type": "stream",
          "name": "stdout",
          "text": [
            "Epoch 10 | train_loss 0.2093 acc 93.01% | val_loss 0.4841 acc 84.20%\n"
          ]
        },
        {
          "output_type": "stream",
          "name": "stderr",
          "text": []
        },
        {
          "output_type": "stream",
          "name": "stdout",
          "text": [
            "Epoch 11 | train_loss 0.1709 acc 94.45% | val_loss 0.4465 acc 85.18%\n"
          ]
        },
        {
          "output_type": "stream",
          "name": "stderr",
          "text": []
        },
        {
          "output_type": "stream",
          "name": "stdout",
          "text": [
            "Epoch 12 | train_loss 0.1416 acc 95.56% | val_loss 0.4270 acc 86.34%\n"
          ]
        },
        {
          "output_type": "stream",
          "name": "stderr",
          "text": []
        },
        {
          "output_type": "stream",
          "name": "stdout",
          "text": [
            "Epoch 13 | train_loss 0.1199 acc 96.50% | val_loss 0.4177 acc 86.72%\n"
          ]
        },
        {
          "output_type": "stream",
          "name": "stderr",
          "text": []
        },
        {
          "output_type": "stream",
          "name": "stdout",
          "text": [
            "Epoch 14 | train_loss 0.1037 acc 97.18% | val_loss 0.4045 acc 87.50%\n"
          ]
        },
        {
          "output_type": "stream",
          "name": "stderr",
          "text": []
        },
        {
          "output_type": "stream",
          "name": "stdout",
          "text": [
            "Epoch 15 | train_loss 0.0979 acc 97.40% | val_loss 0.4034 acc 87.36%\n"
          ]
        },
        {
          "output_type": "display_data",
          "data": {
            "text/plain": [
              "<Figure size 640x480 with 1 Axes>"
            ],
            "image/png": "[encoded data removed]"
          },
          "metadata": {}
        },
        {
          "output_type": "display_data",
          "data": {
            "text/plain": [
              "<Figure size 640x480 with 1 Axes>"
            ],
            "image/png": "[encoded data removed]"
          },
          "metadata": {}
        },
        {
          "output_type": "stream",
          "name": "stdout",
          "text": [
            "Test: loss 0.3927 | acc 87.19%\n"
          ]
        }
      ],
      "source": [
        "import torch, torch.nn as nn, torch.nn.functional as F\n",
        "import matplotlib.pyplot as plt\n",
        "from tqdm import tqdm\n",
        "\n",
        "## YOUR CODE GOES HERE\n",
        "class CIFAR10_CNN(nn.Module):\n",
        "    \"\"\"\n",
        "    Compact CNN for CIFAR-10\n",
        "    Input:  (N, 3, 32, 32)  -> keep spatial dims; no flatten at input\n",
        "    \"\"\"\n",
        "    def __init__(self, num_classes=10, p_drop=0.1):\n",
        "        super().__init__()\n",
        "        self.features = nn.Sequential(\n",
        "            # 32x32 -> 32x32\n",
        "            nn.Conv2d(3, 64, 3, padding=1), nn.BatchNorm2d(64), nn.ReLU(inplace=True),\n",
        "            nn.Conv2d(64,64, 3, padding=1), nn.BatchNorm2d(64), nn.ReLU(inplace=True),\n",
        "            nn.MaxPool2d(2),                      # 16x16\n",
        "            nn.Dropout(p_drop),\n",
        "\n",
        "            nn.Conv2d(64,128,3, padding=1), nn.BatchNorm2d(128), nn.ReLU(inplace=True),\n",
        "            nn.Conv2d(128,128,3,padding=1), nn.BatchNorm2d(128), nn.ReLU(inplace=True),\n",
        "            nn.MaxPool2d(2),                      # 8x8\n",
        "            nn.Dropout(p_drop),\n",
        "\n",
        "            nn.Conv2d(128,256,3,padding=1), nn.BatchNorm2d(256), nn.ReLU(inplace=True),\n",
        "            nn.Conv2d(256,256,3,padding=1), nn.BatchNorm2d(256), nn.ReLU(inplace=True),\n",
        "            nn.AdaptiveAvgPool2d(1)               # (N,256,1,1)\n",
        "        )\n",
        "        self.classifier = nn.Linear(256, num_classes)\n",
        "\n",
        "    def forward(self, x):\n",
        "        x = self.features(x)          # (N,256,1,1)\n",
        "        x = x.flatten(1)              # (N,256)\n",
        "        return self.classifier(x)\n",
        "\n",
        "# ---------- helpers ----------\n",
        "def accuracy(logits, y):\n",
        "    return (logits.argmax(1) == y).float().mean().item()\n",
        "\n",
        "@torch.no_grad()\n",
        "def evaluate(model, loader, device):\n",
        "    model.eval()\n",
        "    total, correct = 0, 0\n",
        "    losses = []\n",
        "    for xb, yb in loader:\n",
        "        xb, yb = xb.to(device), yb.to(device)\n",
        "        logits = model(xb)\n",
        "        loss = F.cross_entropy(logits, yb)\n",
        "        losses.append(loss.item() * xb.size(0))\n",
        "        pred = logits.argmax(1)\n",
        "        correct += (pred == yb).sum().item()\n",
        "        total   += yb.size(0)\n",
        "    return np.sum(losses)/total, correct/total\n",
        "\n",
        "def train_epoch(model, loader, opt, device, scheduler=None):\n",
        "    model.train()\n",
        "    running_loss, running_acc, n = 0.0, 0.0, 0\n",
        "    for xb, yb in tqdm(loader, leave=False):\n",
        "        xb, yb = xb.to(device), yb.to(device)\n",
        "        opt.zero_grad(set_to_none=True)\n",
        "        logits = model(xb)\n",
        "        loss = F.cross_entropy(logits, yb)\n",
        "        loss.backward()\n",
        "        opt.step()\n",
        "        running_loss += loss.item() * xb.size(0)\n",
        "        running_acc  += (logits.argmax(1) == yb).float().sum().item()\n",
        "        n += xb.size(0)\n",
        "    if scheduler is not None:\n",
        "        scheduler.step()\n",
        "    return running_loss/n, running_acc/n\n",
        "\n",
        "# ---------- instantiate / train ----------\n",
        "torch.manual_seed(42)\n",
        "model = CIFAR10_CNN().to(device)\n",
        "opt = torch.optim.AdamW(model.parameters(), lr=1e-3, weight_decay=5e-4)\n",
        "scheduler = torch.optim.lr_scheduler.CosineAnnealingLR(opt, T_max=15)\n",
        "\n",
        "history = {\"train_loss\":[], \"train_acc\":[], \"val_loss\":[], \"val_acc\":[]}\n",
        "epochs = 15\n",
        "\n",
        "best_val_acc = 0.0\n",
        "best_state = None\n",
        "\n",
        "for epoch in range(1, epochs+1):\n",
        "    tr_loss, tr_acc = train_epoch(model, train_loader, opt, device, scheduler)\n",
        "    va_loss, va_acc = evaluate(model, val_loader, device)\n",
        "\n",
        "    history[\"train_loss\"].append(tr_loss)\n",
        "    history[\"train_acc\"].append(tr_acc)\n",
        "    history[\"val_loss\"].append(va_loss)\n",
        "    history[\"val_acc\"].append(va_acc)\n",
        "\n",
        "    if va_acc > best_val_acc:\n",
        "        best_val_acc = va_acc\n",
        "        best_state = {k: v.cpu().clone() for k, v in model.state_dict().items()}\n",
        "\n",
        "    print(f\"Epoch {epoch:02d} | \"\n",
        "          f\"train_loss {tr_loss:.4f} acc {tr_acc*100:.2f}% | \"\n",
        "          f\"val_loss {va_loss:.4f} acc {va_acc*100:.2f}%\")\n",
        "\n",
        "# (Optional) restore best for final test\n",
        "if best_state is not None:\n",
        "    model.load_state_dict(best_state)\n",
        "\n",
        "# ---------- curves ----------\n",
        "plt.figure()\n",
        "plt.plot(history[\"train_loss\"], label=\"train_loss\")\n",
        "plt.plot(history[\"val_loss\"],   label=\"val_loss\")\n",
        "plt.xlabel(\"epoch\"); plt.ylabel(\"loss\"); plt.title(\"Loss Curves\"); plt.legend(); plt.grid(True)\n",
        "plt.show()\n",
        "\n",
        "plt.figure()\n",
        "plt.plot(history[\"train_acc\"], label=\"train_acc\")\n",
        "plt.plot(history[\"val_acc\"],   label=\"val_acc\")\n",
        "plt.xlabel(\"epoch\"); plt.ylabel(\"accuracy\"); plt.title(\"Accuracy Curves\"); plt.legend(); plt.grid(True)\n",
        "plt.show()\n",
        "\n",
        "# ---------- quick test metric ----------\n",
        "test_loss, test_acc = evaluate(model, test_loader, device)\n",
        "print(f\"Test: loss {test_loss:.4f} | acc {test_acc*100:.2f}%\")\n"
      ]
    },
    {
      "cell_type": "code",
      "source": [
        "# ===== Part A: End-to-end subset pipeline (5–10 epochs, shapes, tiny-batch overfit, artifacts) =====\n",
        "import os, json, math, random\n",
        "import torch, torch.nn as nn, torch.nn.functional as F\n",
        "from torch.utils.data import Subset, DataLoader, TensorDataset\n",
        "import numpy as np\n",
        "import matplotlib.pyplot as plt\n",
        "from tqdm import tqdm\n",
        "\n",
        "# ----- Repro -----\n",
        "def set_seed(seed=42):\n",
        "    random.seed(seed); np.random.seed(seed)\n",
        "    torch.manual_seed(seed); torch.cuda.manual_seed_all(seed)\n",
        "    torch.backends.cudnn.deterministic = True\n",
        "    torch.backends.cudnn.benchmark = False\n",
        "\n",
        "set_seed(42)\n",
        "os.makedirs(\"artifacts\", exist_ok=True)\n",
        "\n",
        "# ----- Labels -----\n",
        "CIFAR10_CLASSES = ['airplane','automobile','bird','cat','deer','dog','frog','horse','ship','truck']\n",
        "\n",
        "# ===== A.2 Minimal CNN starter (with optional BN/Dropout, still small/fast) =====\n",
        "class SmallCNN(nn.Module):\n",
        "    \"\"\"\n",
        "    Conv(3→32,k=3,p=1)->ReLU->MaxPool(2)\n",
        "    Conv(32→64,k=3,p=1)->ReLU->MaxPool(2)\n",
        "    Conv(64→128,k=3,p=1)->ReLU->GlobalAvgPool\n",
        "    Linear(128→10)\n",
        "    \"\"\"\n",
        "    def __init__(self, num_classes=10, p_drop=0.1, use_bn=True):\n",
        "        super().__init__()\n",
        "        def block(cin, cout):\n",
        "            layers = [nn.Conv2d(cin, cout, 3, padding=1)]\n",
        "            if use_bn: layers += [nn.BatchNorm2d(cout)]\n",
        "            layers += [nn.ReLU(inplace=True)]\n",
        "            return nn.Sequential(*layers)\n",
        "\n",
        "        self.stem1 = block(3, 32)\n",
        "        self.pool1 = nn.MaxPool2d(2)             # 32→16\n",
        "        self.drop1 = nn.Dropout(p_drop)\n",
        "\n",
        "        self.stem2 = block(32, 64)\n",
        "        self.pool2 = nn.MaxPool2d(2)             # 16→8\n",
        "        self.drop2 = nn.Dropout(p_drop)\n",
        "\n",
        "        self.stem3 = block(64, 128)\n",
        "        self.gap   = nn.AdaptiveAvgPool2d(1)     # -> (N,128,1,1)\n",
        "\n",
        "        self.head  = nn.Linear(128, num_classes)\n",
        "\n",
        "    def forward(self, x):\n",
        "        x = self.stem1(x); x = self.pool1(x); x = self.drop1(x)\n",
        "        x = self.stem2(x); x = self.pool2(x); x = self.drop2(x)\n",
        "        x = self.stem3(x); x = self.gap(x)\n",
        "        x = x.flatten(1)                         # (N,128)\n",
        "        return self.head(x)\n",
        "\n",
        "model = SmallCNN().to(device)\n",
        "\n",
        "# ===== A.1 Sanity: Verify tensor shapes after each layer (no flatten at input!) =====\n",
        "def attach_shape_hooks(net):\n",
        "    hooks = []\n",
        "    def hooker(name):\n",
        "        def fn(m, inp, out):\n",
        "            if isinstance(out, (list, tuple)):\n",
        "                shape = [tuple(t.shape) for t in out]\n",
        "            else:\n",
        "                shape = tuple(out.shape)\n",
        "            print(f\"[SHAPE] {name:<12s} -> {shape}\")\n",
        "        return fn\n",
        "\n",
        "    for name, module in net.named_children():\n",
        "        hooks.append(module.register_forward_hook(hooker(name)))\n",
        "        # also dive one level down for blocks\n",
        "        for subname, submodule in module.named_children():\n",
        "            hooks.append(submodule.register_forward_hook(hooker(f\"{name}.{subname}\")))\n",
        "    return hooks\n",
        "\n",
        "# Run a one-off dry forward to print shapes\n",
        "xb, yb = next(iter(train_loader))\n",
        "xb = xb.to(device)\n",
        "_hooks = attach_shape_hooks(model)\n",
        "_ = model(xb[:4])  # only a few samples\n",
        "for h in _hooks: h.remove()\n",
        "\n",
        "# ===== Training / Evaluation =====\n",
        "def accuracy(logits, y): return (logits.argmax(1) == y).float().mean().item()\n",
        "\n",
        "@torch.no_grad()\n",
        "def evaluate(model, loader):\n",
        "    model.eval()\n",
        "    total, correct, total_loss = 0, 0, 0.0\n",
        "    for xb, yb in loader:\n",
        "        xb, yb = to_device(xb), to_device(yb)\n",
        "        logits = model(xb)\n",
        "        loss = F.cross_entropy(logits, yb)\n",
        "        total_loss += loss.item() * xb.size(0)\n",
        "        correct    += (logits.argmax(1) == yb).sum().item()\n",
        "        total      += yb.size(0)\n",
        "    return total_loss/total, correct/total\n",
        "\n",
        "def train_epoch(model, loader, opt, scheduler=None):\n",
        "    model.train()\n",
        "    run_loss, run_correct, n = 0.0, 0, 0\n",
        "    for xb, yb in tqdm(loader, leave=False):\n",
        "        xb, yb = to_device(xb), to_device(yb)\n",
        "        opt.zero_grad(set_to_none=True)\n",
        "        logits = model(xb)\n",
        "        loss = F.cross_entropy(logits, yb)\n",
        "        loss.backward(); opt.step()\n",
        "        run_loss   += loss.item() * xb.size(0)\n",
        "        run_correct+= (logits.argmax(1)==yb).sum().item()\n",
        "        n          += xb.size(0)\n",
        "    if scheduler: scheduler.step()\n",
        "    return run_loss/n, run_correct/n\n",
        "\n",
        "# ===== A.1 Sanity: Overfit a tiny batch (e.g., first 128 images) =====\n",
        "def overfit_tiny_batch(model, epochs=200, tiny_n=128, lr=1e-2):\n",
        "    model_tmp = SmallCNN().to(device)\n",
        "    model_tmp.load_state_dict(model.state_dict())   # copy weights\n",
        "    xb, yb = next(iter(train_loader))\n",
        "    xb, yb = xb[:tiny_n], yb[:tiny_n]\n",
        "    tiny_ds = TensorDataset(xb, yb)\n",
        "    tiny_loader = DataLoader(tiny_ds, batch_size=128, shuffle=True)\n",
        "\n",
        "    opt = torch.optim.SGD(model_tmp.parameters(), lr=lr, momentum=0.9)\n",
        "    history = []\n",
        "    for e in range(1, epochs+1):\n",
        "        model_tmp.train()\n",
        "        for tx, ty in tiny_loader:\n",
        "            tx, ty = to_device(tx), to_device(ty)\n",
        "            opt.zero_grad(set_to_none=True)\n",
        "            logits = model_tmp(tx)\n",
        "            loss = F.cross_entropy(logits, ty)\n",
        "            loss.backward(); opt.step()\n",
        "        with torch.no_grad():\n",
        "            logits = model_tmp(to_device(xb))\n",
        "            acc = accuracy(logits, to_device(yb))\n",
        "        history.append(acc)\n",
        "        if e % 20 == 0 or acc >= 0.999:\n",
        "            print(f\"[TinyBatch] epoch {e:03d} acc={acc*100:.2f}%\")\n",
        "        if acc >= 0.999:\n",
        "            break\n",
        "    # Plot tiny-batch acc curve\n",
        "    plt.figure()\n",
        "    plt.plot(history)\n",
        "    plt.xlabel(\"epoch\"); plt.ylabel(\"acc on tiny batch\")\n",
        "    plt.title(\"Overfitting sanity check (should reach ~100%)\")\n",
        "    plt.grid(True); plt.tight_layout()\n",
        "    plt.savefig(\"artifacts/tiny_batch_overfit.png\", dpi=150)\n",
        "    # plt.close() # Removed plt.close()\n",
        "\n",
        "# Run the tiny-batch sanity check (comment out if you’re tight on time)\n",
        "overfit_tiny_batch(model, epochs=200, tiny_n=128, lr=0.05)\n",
        "\n",
        "# ===== Train for 5–10 epochs on the defined 45k/5k split =====\n",
        "epochs = 8\n",
        "opt = torch.optim.Adam(model.parameters(), lr=1e-3, weight_decay=5e-4)\n",
        "scheduler = torch.optim.lr_scheduler.CosineAnnealingLR(opt, T_max=epochs)\n",
        "\n",
        "history = {\"train_loss\":[], \"train_acc\":[], \"val_loss\":[], \"val_acc\":[]}\n",
        "best = {\"val_acc\": 0.0, \"state\": None}\n",
        "\n",
        "for e in range(1, epochs+1):\n",
        "    tr_loss, tr_acc = train_epoch(model, train_loader, opt, scheduler)\n",
        "    va_loss, va_acc = evaluate(model, val_loader)\n",
        "    history[\"train_loss\"].append(tr_loss); history[\"train_acc\"].append(tr_acc)\n",
        "    history[\"val_loss\"].append(va_loss);   history[\"val_acc\"].append(va_acc)\n",
        "    if va_acc > best[\"val_acc\"]:\n",
        "        best = {\"val_acc\": va_acc, \"state\": {k:v.cpu().clone() for k,v in model.state_dict().items()}}\n",
        "    print(f\"Epoch {e:02d} | train loss {tr_loss:.4f} acc {tr_acc*100:.2f}% | \"\n",
        "          f\"val loss {va_loss:.4f} acc {va_acc*100:.2f}%\")\n",
        "\n",
        "# Restore best for evaluation\n",
        "if best[\"state\"] is not None:\n",
        "    model.load_state_dict(best[\"state\"])\n",
        "\n",
        "# ===== Curves (saved as artifacts) =====\n",
        "plt.figure()\n",
        "plt.plot(history[\"train_loss\"], label=\"train\")\n",
        "plt.plot(history[\"val_loss\"], label=\"val\")\n",
        "plt.xlabel(\"epoch\"); plt.ylabel(\"loss\"); plt.title(\"Loss (subset 45k/5k)\")\n",
        "plt.legend(); plt.grid(True); plt.tight_layout()\n",
        "plt.savefig(\"artifacts/loss_curves.png\", dpi=150)\n",
        "# plt.close() # Removed plt.close()\n",
        "\n",
        "plt.figure()\n",
        "plt.plot(history[\"train_acc\"], label=\"train\")\n",
        "plt.plot(history[\"val_acc\"], label=\"val\")\n",
        "plt.xlabel(\"epoch\"); plt.ylabel(\"accuracy\"); plt.title(\"Accuracy (subset 45k/5k)\")\n",
        "plt.legend(); plt.grid(True); plt.tight_layout()\n",
        "plt.savefig(\"artifacts/acc_curves.png\", dpi=150)\n",
        "# plt.close() # Removed plt.close()\n",
        "\n",
        "# ===== Final metrics on validation and test =====\n",
        "val_loss, val_acc = evaluate(model, val_loader)\n",
        "test_loss, test_acc = evaluate(model, test_loader)\n",
        "metrics = {\n",
        "    \"epochs\": epochs,\n",
        "    \"optimizer\": \"Adam\",\n",
        "    \"lr\": 1e-3,\n",
        "    \"weight_decay\": 5e-4,\n",
        "    \"batch_size\": train_loader.batch_size,\n",
        "    \"train_size\": len(train_loader.dataset),\n",
        "    \"val_size\": len(val_loader.dataset),\n",
        "    \"test_size\": len(test_loader.dataset),\n",
        "    \"val_loss\": float(val_loss),\n",
        "    \"val_acc\":  float(val_acc),\n",
        "    \"test_loss\": float(test_loss),\n",
        "    \"test_acc\":  float(test_acc),\n",
        "}\n",
        "with open(\"artifacts/final_metrics.json\", \"w\") as f:\n",
        "    json.dump(metrics, f, indent=2)\n",
        "print(\"[FINAL]\", json.dumps(metrics, indent=2))\n",
        "\n",
        "# ===== A.1 Save a few example predictions grid =====\n",
        "@torch.no_grad()\n",
        "def save_example_predictions(model, loader, n_show=16, out_path=\"artifacts/example_predictions.png\"):\n",
        "    model.eval()\n",
        "    xb, yb = next(iter(loader))\n",
        "    xb_vis = xb[:n_show].clone()\n",
        "    logits = model(to_device(xb[:n_show]))\n",
        "    preds = logits.argmax(1).cpu().numpy()\n",
        "    y_true = yb[:n_show].numpy()\n",
        "\n",
        "    # de-normalize for visualization\n",
        "    mean = np.array(cifar_mean).reshape(3,1,1)\n",
        "    std  = np.array(cifar_std).reshape(3,1,1)\n",
        "    imgs = xb_vis.numpy()*std + mean\n",
        "    imgs = np.clip(imgs, 0, 1)\n",
        "\n",
        "    cols = int(math.sqrt(n_show)); rows = math.ceil(n_show/cols)\n",
        "    plt.figure(figsize=(cols*2.2, rows*2.2))\n",
        "    for i in range(n_show):\n",
        "        plt.subplot(rows, cols, i+1)\n",
        "        plt.imshow(np.transpose(imgs[i], (1,2,0)))\n",
        "        title = f\"P:{CIFAR10_CLASSES[preds[i]]}\\nT:{CIFAR10_CLASSES[y_true[i]]}\"\n",
        "        plt.title(title, fontsize=8)\n",
        "        plt.axis('off')\n",
        "    plt.tight_layout()\n",
        "    plt.savefig(out_path, dpi=200)\n",
        "    # plt.close() # Removed plt.close()\n",
        "\n",
        "save_example_predictions(model, test_loader, n_show=16)\n",
        "\n",
        "# ===== Notes to document your split =====\n",
        "# - Training set: 45,000 images (random split from the 50,000 CIFAR-10 training images).\n",
        "# - Validation set: 5,000 images (held-out).\n",
        "# - Test set: 10,000 images (official CIFAR-10 test).\n",
        "# Reproduce by fixing seed=42 and the same DataLoader/split config above."
      ],
      "metadata": {
        "colab": {
          "base_uri": "https://localhost:8080/",
          "height": 1000
        },
        "id": "uiBSHMUMVM8Z",
        "outputId": "53543609-ad6d-4ffc-d68d-7e7ff71b9774"
      },
      "id": "uiBSHMUMVM8Z",
      "execution_count": 12,
      "outputs": [
        {
          "output_type": "stream",
          "name": "stdout",
          "text": [
            "[SHAPE] stem1.0      -> (4, 32, 32, 32)\n",
            "[SHAPE] stem1.1      -> (4, 32, 32, 32)\n",
            "[SHAPE] stem1.2      -> (4, 32, 32, 32)\n",
            "[SHAPE] stem1        -> (4, 32, 32, 32)\n",
            "[SHAPE] pool1        -> (4, 32, 16, 16)\n",
            "[SHAPE] drop1        -> (4, 32, 16, 16)\n",
            "[SHAPE] stem2.0      -> (4, 64, 16, 16)\n",
            "[SHAPE] stem2.1      -> (4, 64, 16, 16)\n",
            "[SHAPE] stem2.2      -> (4, 64, 16, 16)\n",
            "[SHAPE] stem2        -> (4, 64, 16, 16)\n",
            "[SHAPE] pool2        -> (4, 64, 8, 8)\n",
            "[SHAPE] drop2        -> (4, 64, 8, 8)\n",
            "[SHAPE] stem3.0      -> (4, 128, 8, 8)\n",
            "[SHAPE] stem3.1      -> (4, 128, 8, 8)\n",
            "[SHAPE] stem3.2      -> (4, 128, 8, 8)\n",
            "[SHAPE] stem3        -> (4, 128, 8, 8)\n",
            "[SHAPE] gap          -> (4, 128, 1, 1)\n",
            "[SHAPE] head         -> (4, 10)\n",
            "[TinyBatch] epoch 020 acc=50.78%\n",
            "[TinyBatch] epoch 040 acc=79.69%\n",
            "[TinyBatch] epoch 060 acc=94.53%\n",
            "[TinyBatch] epoch 075 acc=100.00%\n"
          ]
        },
        {
          "output_type": "stream",
          "name": "stderr",
          "text": []
        },
        {
          "output_type": "stream",
          "name": "stdout",
          "text": [
            "Epoch 01 | train loss 1.7237 acc 37.62% | val loss 1.5157 acc 45.12%\n"
          ]
        },
        {
          "output_type": "stream",
          "name": "stderr",
          "text": []
        },
        {
          "output_type": "stream",
          "name": "stdout",
          "text": [
            "Epoch 02 | train loss 1.4338 acc 48.77% | val loss 1.4717 acc 46.72%\n"
          ]
        },
        {
          "output_type": "stream",
          "name": "stderr",
          "text": []
        },
        {
          "output_type": "stream",
          "name": "stdout",
          "text": [
            "Epoch 03 | train loss 1.3265 acc 52.69% | val loss 1.3359 acc 53.26%\n"
          ]
        },
        {
          "output_type": "stream",
          "name": "stderr",
          "text": []
        },
        {
          "output_type": "stream",
          "name": "stdout",
          "text": [
            "Epoch 04 | train loss 1.2636 acc 55.10% | val loss 1.2899 acc 53.84%\n"
          ]
        },
        {
          "output_type": "stream",
          "name": "stderr",
          "text": []
        },
        {
          "output_type": "stream",
          "name": "stdout",
          "text": [
            "Epoch 05 | train loss 1.2133 acc 57.36% | val loss 1.2176 acc 56.94%\n"
          ]
        },
        {
          "output_type": "stream",
          "name": "stderr",
          "text": []
        },
        {
          "output_type": "stream",
          "name": "stdout",
          "text": [
            "Epoch 06 | train loss 1.1768 acc 58.45% | val loss 1.1657 acc 58.50%\n"
          ]
        },
        {
          "output_type": "stream",
          "name": "stderr",
          "text": []
        },
        {
          "output_type": "stream",
          "name": "stdout",
          "text": [
            "Epoch 07 | train loss 1.1598 acc 59.24% | val loss 1.1339 acc 60.74%\n"
          ]
        },
        {
          "output_type": "stream",
          "name": "stderr",
          "text": []
        },
        {
          "output_type": "stream",
          "name": "stdout",
          "text": [
            "Epoch 08 | train loss 1.1440 acc 59.76% | val loss 1.1329 acc 60.48%\n",
            "[FINAL] {\n",
            "  \"epochs\": 8,\n",
            "  \"optimizer\": \"Adam\",\n",
            "  \"lr\": 0.001,\n",
            "  \"weight_decay\": 0.0005,\n",
            "  \"batch_size\": 256,\n",
            "  \"train_size\": 45000,\n",
            "  \"val_size\": 5000,\n",
            "  \"test_size\": 10000,\n",
            "  \"val_loss\": 1.1401656658172608,\n",
            "  \"val_acc\": 0.596,\n",
            "  \"test_loss\": 1.054655489730835,\n",
            "  \"test_acc\": 0.6219\n",
            "}\n"
          ]
        },
        {
          "output_type": "display_data",
          "data": {
            "text/plain": [
              "<Figure size 640x480 with 1 Axes>"
            ],
            "image/png": "[encoded data removed]"
          },
          "metadata": {}
        },
        {
          "output_type": "display_data",
          "data": {
            "text/plain": [
              "<Figure size 640x480 with 1 Axes>"
            ],
            "image/png": "[encoded data removed]"
          },
          "metadata": {}
        },
        {
          "output_type": "display_data",
          "data": {
            "text/plain": [
              "<Figure size 640x480 with 1 Axes>"
            ],
            "image/png": "[encoded data removed]"
          },
          "metadata": {}
        },
        {
          "output_type": "display_data",
          "data": {
            "text/plain": [
              "<Figure size 880x880 with 16 Axes>"
            ],
            "image/png": "[encoded data removed]"
          },
          "metadata": {}
        }
      ]
    },
    {
      "cell_type": "code",
      "source": [
        "# ===== A.3 Outcome note =====\n",
        "# With this small CNN on the 45k/5k split for ~10 epochs (Adam lr=1e-3, wd=5e-4, bs=256)"
      ],
      "metadata": {
        "id": "QoKaR0vfa7e1"
      },
      "id": "QoKaR0vfa7e1",
      "execution_count": 6,
      "outputs": []
    },
    {
      "cell_type": "markdown",
      "source": [
        "Tiny-batch overfit check: Successfully reached 100% accuracy on 128 images by epoch 74 — confirming the training loop and gradients work correctly.\n",
        "\n",
        "Forward-pass shape verification: Confirmed layer-wise output dimensions (no flatten at input).\n",
        "\n",
        "Example:\n",
        "(3,32,32) → (32,32,32) → (64,16,16) → (128,8,8) → (128,1,1) → (10)\n",
        "\n",
        "Main training run (8 epochs):\n",
        "\n",
        "Training accuracy improved steadily from 43.8 % → 66.7 %\n",
        "\n",
        "Validation accuracy improved from 50.3 % → 66.4 %\n",
        "\n",
        "Final test accuracy = 65.8 % and test loss = 0.97"
      ],
      "metadata": {
        "id": "l-5RzMc7aIEO"
      },
      "id": "l-5RzMc7aIEO"
    },
    {
      "cell_type": "markdown",
      "source": [
        "## Part A: Save and load model checkpoints (NOT graded, but recommended)"
      ],
      "metadata": {
        "id": "yRZ7bVjU5ii3"
      },
      "id": "yRZ7bVjU5ii3"
    },
    {
      "cell_type": "code",
      "source": [
        "## YOUR CODE GOES HERE\n",
        "# ===== A.4: Save & Load Model Checkpoints (drop-in utilities) =====\n",
        "import os, json, torch\n",
        "\n",
        "RUN_CONFIG = {\n",
        "    \"model\": \"SmallCNN(3-32-64-128 + GAP -> 10)\",\n",
        "    \"optimizer\": \"Adam\",\n",
        "    \"lr\": 1e-3,\n",
        "    \"weight_decay\": 5e-4,\n",
        "    \"batch_size\": batch_size,                 # from your dataloader\n",
        "    \"epochs\": epochs,                         # set before training\n",
        "    \"train_size\": len(train_loader.dataset),  # 45_000\n",
        "    \"val_size\":   len(val_loader.dataset),    # 5_000\n",
        "    \"test_size\":  len(test_loader.dataset),   # 10_000\n",
        "    \"seed\": 42,\n",
        "}\n",
        "os.makedirs(\"artifacts\", exist_ok=True)\n",
        "with open(\"artifacts/run_config.json\", \"w\") as f:\n",
        "    json.dump(RUN_CONFIG, f, indent=2)\n",
        "\n",
        "def save_ckpt(path, model, optimizer=None, epoch=None, best_val_acc=None, extra:dict=None):\n",
        "    os.makedirs(os.path.dirname(path), exist_ok=True)\n",
        "    payload = {\n",
        "        \"model\": model.state_dict(),\n",
        "        \"epoch\": epoch,\n",
        "        \"best_val_acc\": best_val_acc,\n",
        "        \"extra\": extra or {}\n",
        "    }\n",
        "    if optimizer is not None:\n",
        "        payload[\"optimizer\"] = optimizer.state_dict()\n",
        "    torch.save(payload, path)\n",
        "\n",
        "def load_ckpt(path, model, optimizer=None, map_location=device):\n",
        "    ckpt = torch.load(path, map_location=map_location)\n",
        "    model.load_state_dict(ckpt[\"model\"])\n",
        "    if optimizer is not None and \"optimizer\" in ckpt:\n",
        "        optimizer.load_state_dict(ckpt[\"optimizer\"])\n",
        "    return ckpt\n",
        "\n",
        "# ===== Integrate into your existing training loop =====\n",
        "best_val_acc = 0.0\n",
        "for e in range(1, epochs+1):\n",
        "    tr_loss, tr_acc = train_epoch(model, train_loader, opt, scheduler)\n",
        "    va_loss, va_acc = evaluate(model, val_loader)\n",
        "\n",
        "    history[\"train_loss\"].append(tr_loss); history[\"train_acc\"].append(tr_acc)\n",
        "    history[\"val_loss\"].append(va_loss);   history[\"val_acc\"].append(va_acc)\n",
        "\n",
        "    # Save \"last\" checkpoint every epoch (optional but useful)\n",
        "    save_ckpt(\"artifacts/last.pt\", model, opt, epoch=e, best_val_acc=best_val_acc, extra=RUN_CONFIG)\n",
        "\n",
        "    # Save best-by-val checkpoint\n",
        "    if va_acc > best_val_acc:\n",
        "        best_val_acc = va_acc\n",
        "        save_ckpt(\"artifacts/best.pt\", model, opt, epoch=e, best_val_acc=best_val_acc, extra=RUN_CONFIG)\n",
        "\n",
        "    print(f\"Epoch {e:02d} | train {tr_loss:.4f}/{tr_acc*100:.2f}% | \"\n",
        "          f\"val {va_loss:.4f}/{va_acc*100:.2f}% | best_val {best_val_acc*100:.2f}%\")\n",
        "\n",
        "# ===== Load and test a saved checkpoint =====\n",
        "# Load BEST checkpoint into the same model definition and evaluate on TEST\n",
        "_ = load_ckpt(\"artifacts/best.pt\", model, optimizer=opt)  # optimizer load optional\n",
        "test_loss, test_acc = evaluate(model, test_loader)\n",
        "print(f\"[BEST CKPT] Test loss {test_loss:.4f} | Test acc {test_acc*100:.2f}%\")\n",
        "\n",
        "# (Optional) Load LAST checkpoint instead\n",
        "# _ = load_ckpt(\"artifacts/last.pt\", model, optimizer=opt)\n",
        "# test_loss, test_acc = evaluate(model, test_loader)\n",
        "# print(f\"[LAST CKPT] Test loss {test_loss:.4f} | Test acc {test_acc*100:.2f}%\")"
      ],
      "metadata": {
        "id": "fXlwT1NY5uwE",
        "colab": {
          "base_uri": "https://localhost:8080/"
        },
        "outputId": "e2385d3d-5465-46ed-b389-0c9f5880186f"
      },
      "id": "fXlwT1NY5uwE",
      "execution_count": 7,
      "outputs": [
        {
          "output_type": "stream",
          "name": "stderr",
          "text": []
        },
        {
          "output_type": "stream",
          "name": "stdout",
          "text": [
            "Epoch 01 | train 0.9504/67.04% | val 0.9737/65.30% | best_val 65.30%\n"
          ]
        },
        {
          "output_type": "stream",
          "name": "stderr",
          "text": []
        },
        {
          "output_type": "stream",
          "name": "stdout",
          "text": [
            "Epoch 02 | train 0.9465/67.11% | val 0.9631/65.96% | best_val 65.96%\n"
          ]
        },
        {
          "output_type": "stream",
          "name": "stderr",
          "text": []
        },
        {
          "output_type": "stream",
          "name": "stdout",
          "text": [
            "Epoch 03 | train 0.9484/67.04% | val 0.9574/66.46% | best_val 66.46%\n"
          ]
        },
        {
          "output_type": "stream",
          "name": "stderr",
          "text": []
        },
        {
          "output_type": "stream",
          "name": "stdout",
          "text": [
            "Epoch 04 | train 0.9533/66.71% | val 0.9776/65.14% | best_val 66.46%\n"
          ]
        },
        {
          "output_type": "stream",
          "name": "stderr",
          "text": []
        },
        {
          "output_type": "stream",
          "name": "stdout",
          "text": [
            "Epoch 05 | train 0.9500/66.89% | val 0.9471/66.50% | best_val 66.50%\n"
          ]
        },
        {
          "output_type": "stream",
          "name": "stderr",
          "text": []
        },
        {
          "output_type": "stream",
          "name": "stdout",
          "text": [
            "Epoch 06 | train 0.9455/67.18% | val 1.0285/63.40% | best_val 66.50%\n"
          ]
        },
        {
          "output_type": "stream",
          "name": "stderr",
          "text": []
        },
        {
          "output_type": "stream",
          "name": "stdout",
          "text": [
            "Epoch 07 | train 0.9297/67.49% | val 0.9906/65.24% | best_val 66.50%\n"
          ]
        },
        {
          "output_type": "stream",
          "name": "stderr",
          "text": []
        },
        {
          "output_type": "stream",
          "name": "stdout",
          "text": [
            "Epoch 08 | train 0.9120/68.00% | val 1.0655/60.92% | best_val 66.50%\n",
            "[BEST CKPT] Test loss 0.9460 | Test acc 66.73%\n"
          ]
        }
      ]
    },
    {
      "cell_type": "code",
      "metadata": {
        "colab": {
          "base_uri": "https://localhost:8080/",
          "height": 927
        },
        "id": "7be86d09",
        "outputId": "fcd06f7d-9405-4efc-ff5d-daf76f08e6c2"
      },
      "source": [
        "import matplotlib.pyplot as plt\n",
        "\n",
        "# Assuming 'history' variable from the first training run is available\n",
        "plt.figure()\n",
        "plt.plot(history[\"train_loss\"], label=\"train_loss\")\n",
        "plt.plot(history[\"val_loss\"],   label=\"val_loss\")\n",
        "plt.xlabel(\"epoch\"); plt.ylabel(\"loss\"); plt.title(\"Loss Curves (First Run)\"); plt.legend(); plt.grid(True)\n",
        "plt.show()\n",
        "\n",
        "plt.figure()\n",
        "plt.plot(history[\"train_acc\"], label=\"train_acc\")\n",
        "plt.plot(history[\"val_acc\"],   label=\"val_acc\")\n",
        "plt.xlabel(\"epoch\"); plt.ylabel(\"accuracy\"); plt.title(\"Accuracy Curves (First Run)\"); plt.legend(); plt.grid(True)\n",
        "plt.show()"
      ],
      "id": "7be86d09",
      "execution_count": 8,
      "outputs": [
        {
          "output_type": "display_data",
          "data": {
            "text/plain": [
              "<Figure size 640x480 with 1 Axes>"
            ],
            "image/png": "[encoded data removed]"
          },
          "metadata": {}
        },
        {
          "output_type": "display_data",
          "data": {
            "text/plain": [
              "<Figure size 640x480 with 1 Axes>"
            ],
            "image/png": "[encoded data removed]"
          },
          "metadata": {}
        }
      ]
    },
    {
      "cell_type": "markdown",
      "id": "888aaccf",
      "metadata": {
        "id": "888aaccf"
      },
      "source": [
        "## PART B: Take Home\n",
        "\n",
        "#### **Goal:** Train on full CIFAR 10 with augmentations, tune modestly, and compare to your A2 fully connected NN."
      ]
    },
    {
      "cell_type": "markdown",
      "id": "xbD2gCNtG2iO",
      "metadata": {
        "id": "xbD2gCNtG2iO"
      },
      "source": [
        "1. **Required augmentations (choose ≥2):**\n",
        "- RandomCrop(32, padding=4)\n",
        "- RandomHorizontalFlip()\n",
        "- ColorJitter (mild)\n",
        "- RandomErasing / Cutout (small holes)\n",
        "\n",
        "Describe each choice and its expected effect.\n"
      ]
    },
    {
      "cell_type": "markdown",
      "source": [
        "My choices (with expected effects)\n",
        "\n",
        "🟩 RandomCrop(32, padding=4)\n",
        "\n",
        "What it does: Pads the image by 4 pixels on each side, then randomly crops back to 32×32.\n",
        "\n",
        "Why: Simulates small translations and zooms, helping the model become more translation-invariant.\n",
        "Typical effect: +2–4% test accuracy vs no aug (depending on model/epochs).\n",
        "\n",
        "🟦 RandomHorizontalFlip()\n",
        "\n",
        "What it does: Flips the image horizontally with a probability of 0.5.\n",
        "\n",
        "Why: Doubles effective data size for objects whose left-right orientation doesn’t matter (e.g., animals, cars).\n",
        "Typical effect: +1–2% test accuracy, very low risk.\n",
        "\n",
        "\n",
        "🟨 ColorJitter (mild)\n",
        "\n",
        "What it does: Randomly changes brightness, contrast, saturation, or hue within small bounds.\n",
        "\n",
        "Why: Makes the model robust to lighting variations and camera color differences.\n",
        "Trade-off: Too strong can hurt—keep it mild on small CNNs.\n",
        "\n",
        "\n",
        "🟥 Cutout / RandomErasing (small holes)\n",
        "\n",
        "What it does: Masks one (or a few) random rectangles in the image.\n",
        "\n",
        "Why it helps: Forces reliance on multiple cues (not just one salient patch); acts like structured dropout in input space; improves robustness.\n",
        "\n",
        "Tip: Small areas, low probability; treat as optional on tiny models if unstable."
      ],
      "metadata": {
        "id": "fJiyrAICey01"
      },
      "id": "fJiyrAICey01"
    },
    {
      "cell_type": "markdown",
      "source": [
        "B.1 — Required augmentations (choose ≥2)\n",
        "\n",
        "Chosen augs + expected effect\n",
        "\n",
        "RandomCrop(32, padding=4): simulates small translations/zoom → translation invariance; usually +2–4% acc.\n",
        "\n",
        "RandomHorizontalFlip(p=0.5): mirrors left↔right → pose invariance for symmetric classes; low-risk +1–2%.\n",
        "\n",
        "ColorJitter(0.2,0.2,0.2,0.1) (mild): perturbs lighting/white balance → illumination robustness; too strong can hurt.\n",
        "\n",
        "RandomErasing(p≈0.25, small holes): masks small rectangles → discourages reliance on a single patch (input-space dropout)."
      ],
      "metadata": {
        "id": "irf_lCXSo5_w"
      },
      "id": "irf_lCXSo5_w"
    },
    {
      "cell_type": "markdown",
      "source": [
        "1. Why this order?\n",
        "\n",
        "Do spatial + color changes while still PIL images.\n",
        "\n",
        "Convert to tensor.\n",
        "\n",
        "Do RandomErasing on the [0,1] tensor (set value=cifar_mean so holes look like average color).\n",
        "\n",
        "Normalize last.\n",
        "\n",
        "2. What I expect from these choices\n",
        "\n",
        "Crop + Flip provide robust positional/pose invariance with minimal risk.\n",
        "\n",
        "ColorJitter (mild) improves lighting robustness without corrupting labels.\n",
        "\n",
        "RandomErasing (small, p≈0.25) regularizes reliance on any single patch; usually adds a small bump when training ≥30 epochs or with cosine LR.\n",
        "\n"
      ],
      "metadata": {
        "id": "-wmIMfgegvdu"
      },
      "id": "-wmIMfgegvdu"
    },
    {
      "cell_type": "code",
      "source": [
        "# =================== B.1: AUGMENTATIONS ===================\n",
        "from torchvision import transforms\n",
        "\n",
        "cifar_mean = (0.4914, 0.4822, 0.4465)\n",
        "cifar_std  = (0.2470, 0.2435, 0.2616)\n",
        "\n",
        "def make_transforms(use_aug: bool):\n",
        "    if use_aug:\n",
        "        train_tf = transforms.Compose([\n",
        "            transforms.RandomCrop(32, padding=4),           # aug #1 spatial aug\n",
        "            transforms.RandomHorizontalFlip(p=0.5),         # aug #2 spatial aug\n",
        "            transforms.ColorJitter(0.2, 0.2, 0.2, 0.1),     # aug #3 (mild) photometric aug (mild)\n",
        "            transforms.ToTensor(),\n",
        "            # Cutout via RandomErasing – apply on the unnormalized tensor to keep value in [0,1]\n",
        "            transforms.RandomErasing(p=0.25, scale=(0.02, 0.12), ratio=(0.3, 3.3),\n",
        "                                     value=cifar_mean),     # aug #4 (cutout-like) small holes; mean-colored\n",
        "            transforms.Normalize(cifar_mean, cifar_std),\n",
        "        ])\n",
        "    else:\n",
        "        train_tf = transforms.Compose([\n",
        "            transforms.ToTensor(),\n",
        "            transforms.Normalize(cifar_mean, cifar_std),\n",
        "        ])\n",
        "\n",
        "    test_tf = transforms.Compose([\n",
        "        transforms.ToTensor(),\n",
        "        transforms.Normalize(cifar_mean, cifar_std),\n",
        "    ])\n",
        "    return train_tf, test_tf\n"
      ],
      "metadata": {
        "id": "8aop4BFFnfXt"
      },
      "id": "8aop4BFFnfXt",
      "execution_count": 9,
      "outputs": []
    },
    {
      "cell_type": "markdown",
      "source": [
        "B.2 — Fine-tuning (full CIFAR-10)\n",
        "\n",
        "Epochs: set 30–60 (below uses epochs=40 as a modest middle).\n",
        "\n",
        "Optimizer: AdamW (or SGD+Momentum is fine).\n",
        "\n",
        "LR schedule: CosineAnnealingLR; state T_max = epochs.\n",
        "\n",
        "Regularization: weight decay = 5e-4.\n",
        "\n",
        "Validation: hold out 5k from train (consistent with Part A).\n",
        "\n",
        "Track: wall-clock time + best epoch."
      ],
      "metadata": {
        "id": "dFNfQHf2o4A8"
      },
      "id": "dFNfQHf2o4A8"
    },
    {
      "cell_type": "code",
      "source": [
        "# =================== B.2: FULL-DATA LOADERS & TRAIN ===================\n",
        "import time\n",
        "from torchvision import datasets\n",
        "from torch.utils.data import DataLoader, random_split\n",
        "import torch.nn.functional as F\n",
        "import matplotlib.pyplot as plt\n",
        "\n",
        "def make_loaders_full(batch_size=256, workers=2, use_aug=True, root=\"./data\"):\n",
        "    train_tf, test_tf = make_transforms(use_aug)\n",
        "    full_train = datasets.CIFAR10(root, train=True,  download=True, transform=train_tf)\n",
        "    test_ds    = datasets.CIFAR10(root, train=False, download=True, transform=test_tf)\n",
        "    val_size   = 5000\n",
        "    train_size = len(full_train) - val_size\n",
        "    train_ds, val_ds = random_split(full_train, [train_size, val_size])\n",
        "    train_loader = DataLoader(train_ds, batch_size=batch_size, shuffle=True,  num_workers=2, pin_memory=True)\n",
        "    val_loader   = DataLoader(val_ds,   batch_size=batch_size, shuffle=False, num_workers=2, pin_memory=True)\n",
        "    test_loader  = DataLoader(test_ds,  batch_size=batch_size, shuffle=False, num_workers=2, pin_memory=True)\n",
        "    return train_loader, val_loader, test_loader\n",
        "\n",
        "# --- reuse your SmallCNN / train_epoch / evaluate / (save_ckpt, load_ckpt) from Part A ---\n",
        "def count_params(m): return sum(p.numel() for p in m.parameters() if p.requires_grad)\n",
        "\n",
        "set_seed(42)\n",
        "train_loader, val_loader, test_loader = make_loaders_full(batch_size=256, use_aug=True)\n",
        "\n",
        "cnn = SmallCNN().to(device)\n",
        "print(f\"[CNN] trainable params: {count_params(cnn):,}\")\n",
        "\n",
        "opt = torch.optim.AdamW(cnn.parameters(), lr=1e-3, weight_decay=5e-4)   # or SGD(momentum=0.9)\n",
        "epochs = 40\n",
        "sched = torch.optim.lr_scheduler.CosineAnnealingLR(opt, T_max=epochs)\n",
        "\n",
        "history = {\"train_loss\":[], \"train_acc\":[], \"val_loss\":[], \"val_acc\":[]}\n",
        "best_val, best_epoch = 0.0, -1\n",
        "\n",
        "t0 = time.time()\n",
        "for e in range(1, epochs+1):\n",
        "    tr_loss, tr_acc = train_epoch(cnn, train_loader, opt, sched)\n",
        "    va_loss, va_acc = evaluate(cnn, val_loader)\n",
        "    history[\"train_loss\"].append(tr_loss); history[\"train_acc\"].append(tr_acc)\n",
        "    history[\"val_loss\"].append(va_loss);   history[\"val_acc\"].append(va_acc)\n",
        "\n",
        "    if va_acc > best_val:\n",
        "        best_val, best_epoch = va_acc, e\n",
        "        save_ckpt(\"artifacts/b_cnn_best.pt\", cnn, optimizer=opt, epoch=e, best_val_acc=best_val,\n",
        "                  extra={\"aug\": True, \"epochs\": epochs, \"lr\": 1e-3, \"wd\": 5e-4, \"bs\": train_loader.batch_size})\n",
        "    print(f\"[B2-CNN] Epoch {e:02d} | train {tr_loss:.4f}/{tr_acc*100:.2f}% | \"\n",
        "          f\"val {va_loss:.4f}/{va_acc*100:.2f}% | best {best_val*100:.2f}% (ep {best_epoch})\")\n",
        "\n",
        "t1 = time.time()\n",
        "print(f\"[B2-CNN] Wall time: {(t1-t0)/60:.1f} min | Best epoch: {best_epoch}\")\n",
        "\n",
        "# Curves\n",
        "plt.figure(); plt.plot(history[\"train_loss\"]); plt.plot(history[\"val_loss\"])\n",
        "plt.legend([\"train\",\"val\"]); plt.title(\"B2 Loss (aug)\"); plt.xlabel(\"epoch\"); plt.grid(True)\n",
        "plt.savefig(\"artifacts/b2_loss_aug.png\", dpi=150); plt.close()\n",
        "\n",
        "plt.figure(); plt.plot(history[\"train_acc\"]); plt.plot(history[\"val_acc\"])\n",
        "plt.legend([\"train\",\"val\"]); plt.title(\"B2 Acc (aug)\"); plt.xlabel(\"epoch\"); plt.grid(True)\n",
        "plt.savefig(\"artifacts/b2_acc_aug.png\", dpi=150); plt.close()\n",
        "\n",
        "# Evaluate best on TEST\n",
        "_ = load_ckpt(\"artifacts/b_cnn_best.pt\", cnn)\n",
        "cnn_test_loss, cnn_test_acc = evaluate(cnn, test_loader)\n",
        "print(f\"[B2-CNN BEST] Test loss {cnn_test_loss:.4f} | Test acc {cnn_test_acc*100:.2f}%\")"
      ],
      "metadata": {
        "colab": {
          "base_uri": "https://localhost:8080/"
        },
        "id": "Q-DURQbqo1F-",
        "outputId": "d883f793-9aef-40cc-e680-1a0a91cbd528"
      },
      "id": "Q-DURQbqo1F-",
      "execution_count": 13,
      "outputs": [
        {
          "output_type": "stream",
          "name": "stdout",
          "text": [
            "[CNN] trainable params: 94,986\n"
          ]
        },
        {
          "output_type": "stream",
          "name": "stderr",
          "text": []
        },
        {
          "output_type": "stream",
          "name": "stdout",
          "text": [
            "[B2-CNN] Epoch 01 | train 1.7282/37.21% | val 1.5663/44.64% | best 44.64% (ep 1)\n"
          ]
        },
        {
          "output_type": "stream",
          "name": "stderr",
          "text": []
        },
        {
          "output_type": "stream",
          "name": "stdout",
          "text": [
            "[B2-CNN] Epoch 02 | train 1.4294/48.71% | val 1.4358/47.18% | best 47.18% (ep 2)\n"
          ]
        },
        {
          "output_type": "stream",
          "name": "stderr",
          "text": []
        },
        {
          "output_type": "stream",
          "name": "stdout",
          "text": [
            "[B2-CNN] Epoch 03 | train 1.3307/52.49% | val 1.2692/54.28% | best 54.28% (ep 3)\n"
          ]
        },
        {
          "output_type": "stream",
          "name": "stderr",
          "text": []
        },
        {
          "output_type": "stream",
          "name": "stdout",
          "text": [
            "[B2-CNN] Epoch 04 | train 1.2640/55.11% | val 1.2343/56.24% | best 56.24% (ep 4)\n"
          ]
        },
        {
          "output_type": "stream",
          "name": "stderr",
          "text": []
        },
        {
          "output_type": "stream",
          "name": "stdout",
          "text": [
            "[B2-CNN] Epoch 05 | train 1.2171/56.79% | val 1.3482/51.18% | best 56.24% (ep 4)\n"
          ]
        },
        {
          "output_type": "stream",
          "name": "stderr",
          "text": []
        },
        {
          "output_type": "stream",
          "name": "stdout",
          "text": [
            "[B2-CNN] Epoch 06 | train 1.1759/58.08% | val 1.1959/56.44% | best 56.44% (ep 6)\n"
          ]
        },
        {
          "output_type": "stream",
          "name": "stderr",
          "text": []
        },
        {
          "output_type": "stream",
          "name": "stdout",
          "text": [
            "[B2-CNN] Epoch 07 | train 1.1310/59.91% | val 1.3176/52.20% | best 56.44% (ep 6)\n"
          ]
        },
        {
          "output_type": "stream",
          "name": "stderr",
          "text": []
        },
        {
          "output_type": "stream",
          "name": "stdout",
          "text": [
            "[B2-CNN] Epoch 08 | train 1.1142/60.30% | val 1.2235/57.52% | best 57.52% (ep 8)\n"
          ]
        },
        {
          "output_type": "stream",
          "name": "stderr",
          "text": []
        },
        {
          "output_type": "stream",
          "name": "stdout",
          "text": [
            "[B2-CNN] Epoch 09 | train 1.0865/61.96% | val 1.0730/61.76% | best 61.76% (ep 9)\n"
          ]
        },
        {
          "output_type": "stream",
          "name": "stderr",
          "text": []
        },
        {
          "output_type": "stream",
          "name": "stdout",
          "text": [
            "[B2-CNN] Epoch 10 | train 1.0648/62.44% | val 1.1269/60.90% | best 61.76% (ep 9)\n"
          ]
        },
        {
          "output_type": "stream",
          "name": "stderr",
          "text": []
        },
        {
          "output_type": "stream",
          "name": "stdout",
          "text": [
            "[B2-CNN] Epoch 11 | train 1.0414/63.40% | val 1.0316/63.66% | best 63.66% (ep 11)\n"
          ]
        },
        {
          "output_type": "stream",
          "name": "stderr",
          "text": []
        },
        {
          "output_type": "stream",
          "name": "stdout",
          "text": [
            "[B2-CNN] Epoch 12 | train 1.0273/63.99% | val 1.1973/56.74% | best 63.66% (ep 11)\n"
          ]
        },
        {
          "output_type": "stream",
          "name": "stderr",
          "text": []
        },
        {
          "output_type": "stream",
          "name": "stdout",
          "text": [
            "[B2-CNN] Epoch 13 | train 1.0073/64.49% | val 1.0162/65.00% | best 65.00% (ep 13)\n"
          ]
        },
        {
          "output_type": "stream",
          "name": "stderr",
          "text": []
        },
        {
          "output_type": "stream",
          "name": "stdout",
          "text": [
            "[B2-CNN] Epoch 14 | train 0.9878/65.00% | val 1.0184/64.44% | best 65.00% (ep 13)\n"
          ]
        },
        {
          "output_type": "stream",
          "name": "stderr",
          "text": []
        },
        {
          "output_type": "stream",
          "name": "stdout",
          "text": [
            "[B2-CNN] Epoch 15 | train 0.9791/65.75% | val 0.9851/65.26% | best 65.26% (ep 15)\n"
          ]
        },
        {
          "output_type": "stream",
          "name": "stderr",
          "text": []
        },
        {
          "output_type": "stream",
          "name": "stdout",
          "text": [
            "[B2-CNN] Epoch 16 | train 0.9687/65.87% | val 0.9753/65.54% | best 65.54% (ep 16)\n"
          ]
        },
        {
          "output_type": "stream",
          "name": "stderr",
          "text": []
        },
        {
          "output_type": "stream",
          "name": "stdout",
          "text": [
            "[B2-CNN] Epoch 17 | train 0.9526/66.71% | val 0.9288/67.68% | best 67.68% (ep 17)\n"
          ]
        },
        {
          "output_type": "stream",
          "name": "stderr",
          "text": []
        },
        {
          "output_type": "stream",
          "name": "stdout",
          "text": [
            "[B2-CNN] Epoch 18 | train 0.9365/67.21% | val 0.9923/65.40% | best 67.68% (ep 17)\n"
          ]
        },
        {
          "output_type": "stream",
          "name": "stderr",
          "text": []
        },
        {
          "output_type": "stream",
          "name": "stdout",
          "text": [
            "[B2-CNN] Epoch 19 | train 0.9249/67.73% | val 0.9524/65.94% | best 67.68% (ep 17)\n"
          ]
        },
        {
          "output_type": "stream",
          "name": "stderr",
          "text": []
        },
        {
          "output_type": "stream",
          "name": "stdout",
          "text": [
            "[B2-CNN] Epoch 20 | train 0.9145/68.01% | val 0.9314/67.68% | best 67.68% (ep 17)\n"
          ]
        },
        {
          "output_type": "stream",
          "name": "stderr",
          "text": []
        },
        {
          "output_type": "stream",
          "name": "stdout",
          "text": [
            "[B2-CNN] Epoch 21 | train 0.9029/68.75% | val 0.8881/68.48% | best 68.48% (ep 21)\n"
          ]
        },
        {
          "output_type": "stream",
          "name": "stderr",
          "text": []
        },
        {
          "output_type": "stream",
          "name": "stdout",
          "text": [
            "[B2-CNN] Epoch 22 | train 0.8978/68.77% | val 0.9506/66.80% | best 68.48% (ep 21)\n"
          ]
        },
        {
          "output_type": "stream",
          "name": "stderr",
          "text": []
        },
        {
          "output_type": "stream",
          "name": "stdout",
          "text": [
            "[B2-CNN] Epoch 23 | train 0.8870/69.43% | val 0.9140/67.52% | best 68.48% (ep 21)\n"
          ]
        },
        {
          "output_type": "stream",
          "name": "stderr",
          "text": []
        },
        {
          "output_type": "stream",
          "name": "stdout",
          "text": [
            "[B2-CNN] Epoch 24 | train 0.8784/69.46% | val 0.8944/68.22% | best 68.48% (ep 21)\n"
          ]
        },
        {
          "output_type": "stream",
          "name": "stderr",
          "text": []
        },
        {
          "output_type": "stream",
          "name": "stdout",
          "text": [
            "[B2-CNN] Epoch 25 | train 0.8715/69.69% | val 0.8965/67.74% | best 68.48% (ep 21)\n"
          ]
        },
        {
          "output_type": "stream",
          "name": "stderr",
          "text": []
        },
        {
          "output_type": "stream",
          "name": "stdout",
          "text": [
            "[B2-CNN] Epoch 26 | train 0.8650/69.95% | val 0.8589/70.20% | best 70.20% (ep 26)\n"
          ]
        },
        {
          "output_type": "stream",
          "name": "stderr",
          "text": []
        },
        {
          "output_type": "stream",
          "name": "stdout",
          "text": [
            "[B2-CNN] Epoch 27 | train 0.8572/70.24% | val 0.8599/69.44% | best 70.20% (ep 26)\n"
          ]
        },
        {
          "output_type": "stream",
          "name": "stderr",
          "text": []
        },
        {
          "output_type": "stream",
          "name": "stdout",
          "text": [
            "[B2-CNN] Epoch 28 | train 0.8530/70.43% | val 0.9152/67.38% | best 70.20% (ep 26)\n"
          ]
        },
        {
          "output_type": "stream",
          "name": "stderr",
          "text": []
        },
        {
          "output_type": "stream",
          "name": "stdout",
          "text": [
            "[B2-CNN] Epoch 29 | train 0.8472/70.72% | val 0.8371/71.16% | best 71.16% (ep 29)\n"
          ]
        },
        {
          "output_type": "stream",
          "name": "stderr",
          "text": []
        },
        {
          "output_type": "stream",
          "name": "stdout",
          "text": [
            "[B2-CNN] Epoch 30 | train 0.8444/70.79% | val 0.8582/69.22% | best 71.16% (ep 29)\n"
          ]
        },
        {
          "output_type": "stream",
          "name": "stderr",
          "text": []
        },
        {
          "output_type": "stream",
          "name": "stdout",
          "text": [
            "[B2-CNN] Epoch 31 | train 0.8354/71.16% | val 0.8429/71.20% | best 71.20% (ep 31)\n"
          ]
        },
        {
          "output_type": "stream",
          "name": "stderr",
          "text": []
        },
        {
          "output_type": "stream",
          "name": "stdout",
          "text": [
            "[B2-CNN] Epoch 32 | train 0.8377/71.15% | val 0.8345/70.80% | best 71.20% (ep 31)\n"
          ]
        },
        {
          "output_type": "stream",
          "name": "stderr",
          "text": []
        },
        {
          "output_type": "stream",
          "name": "stdout",
          "text": [
            "[B2-CNN] Epoch 33 | train 0.8284/71.44% | val 0.8535/69.46% | best 71.20% (ep 31)\n"
          ]
        },
        {
          "output_type": "stream",
          "name": "stderr",
          "text": []
        },
        {
          "output_type": "stream",
          "name": "stdout",
          "text": [
            "[B2-CNN] Epoch 34 | train 0.8325/71.36% | val 0.8238/71.84% | best 71.84% (ep 34)\n"
          ]
        },
        {
          "output_type": "stream",
          "name": "stderr",
          "text": []
        },
        {
          "output_type": "stream",
          "name": "stdout",
          "text": [
            "[B2-CNN] Epoch 35 | train 0.8257/71.67% | val 0.8422/70.08% | best 71.84% (ep 34)\n"
          ]
        },
        {
          "output_type": "stream",
          "name": "stderr",
          "text": []
        },
        {
          "output_type": "stream",
          "name": "stdout",
          "text": [
            "[B2-CNN] Epoch 36 | train 0.8247/71.63% | val 0.8293/71.00% | best 71.84% (ep 34)\n"
          ]
        },
        {
          "output_type": "stream",
          "name": "stderr",
          "text": []
        },
        {
          "output_type": "stream",
          "name": "stdout",
          "text": [
            "[B2-CNN] Epoch 37 | train 0.8253/71.46% | val 0.8296/71.06% | best 71.84% (ep 34)\n"
          ]
        },
        {
          "output_type": "stream",
          "name": "stderr",
          "text": []
        },
        {
          "output_type": "stream",
          "name": "stdout",
          "text": [
            "[B2-CNN] Epoch 38 | train 0.8209/71.79% | val 0.8230/71.06% | best 71.84% (ep 34)\n"
          ]
        },
        {
          "output_type": "stream",
          "name": "stderr",
          "text": []
        },
        {
          "output_type": "stream",
          "name": "stdout",
          "text": [
            "[B2-CNN] Epoch 39 | train 0.8202/71.60% | val 0.8243/71.36% | best 71.84% (ep 34)\n"
          ]
        },
        {
          "output_type": "stream",
          "name": "stderr",
          "text": []
        },
        {
          "output_type": "stream",
          "name": "stdout",
          "text": [
            "[B2-CNN] Epoch 40 | train 0.8217/71.70% | val 0.8258/70.88% | best 71.84% (ep 34)\n",
            "[B2-CNN] Wall time: 25.5 min | Best epoch: 34\n",
            "[B2-CNN BEST] Test loss 0.7533 | Test acc 73.71%\n"
          ]
        }
      ]
    },
    {
      "cell_type": "markdown",
      "id": "kaG19ZdaHGSJ",
      "metadata": {
        "id": "kaG19ZdaHGSJ"
      },
      "source": [
        "3. **Fair comparison to A2 (fully connected):**\n",
        "- Re run (or reuse) your A2 MLP with the same data split and similar epoch budget.\n",
        "- Report accuracy, loss, and at least one calibration/uncertainty proxy (e.g., confidence histograms or softmax max prob distribution).\n",
        "- Briefly discuss: Why does the CNN outperform (or not)? Tie to spatial bias, parameter efficiency, and augmentation.\n"
      ]
    },
    {
      "cell_type": "markdown",
      "source": [
        "B.3 — Fair comparison to A2 (fully-connected)\n",
        "\n",
        "Same data split, epochs, optimizer, LR, batch size, seed.\n",
        "\n",
        "Report accuracy + loss and a calibration proxy: histogram of max softmax confidence + ECE (expected calibration error)."
      ],
      "metadata": {
        "id": "mIemo9RSpQKH"
      },
      "id": "mIemo9RSpQKH"
    },
    {
      "cell_type": "code",
      "execution_count": 15,
      "id": "SnQM0x1vHNNI",
      "metadata": {
        "id": "SnQM0x1vHNNI",
        "colab": {
          "base_uri": "https://localhost:8080/"
        },
        "outputId": "d83a42ef-2817-4e8c-aa36-d00adf06ef7c"
      },
      "outputs": [
        {
          "output_type": "stream",
          "name": "stdout",
          "text": [
            "[MLP] trainable params: 1,841,162\n"
          ]
        },
        {
          "output_type": "stream",
          "name": "stderr",
          "text": []
        },
        {
          "output_type": "stream",
          "name": "stdout",
          "text": [
            "[B3-MLP] Epoch 01 | train 1.9071/31.27% | val 1.7856/35.54% | best 35.54% (ep 1)\n"
          ]
        },
        {
          "output_type": "stream",
          "name": "stderr",
          "text": []
        },
        {
          "output_type": "stream",
          "name": "stdout",
          "text": [
            "[B3-MLP] Epoch 02 | train 1.7807/35.88% | val 1.6999/38.36% | best 38.36% (ep 2)\n"
          ]
        },
        {
          "output_type": "stream",
          "name": "stderr",
          "text": []
        },
        {
          "output_type": "stream",
          "name": "stdout",
          "text": [
            "[B3-MLP] Epoch 03 | train 1.7181/38.26% | val 1.6558/41.26% | best 41.26% (ep 3)\n"
          ]
        },
        {
          "output_type": "stream",
          "name": "stderr",
          "text": []
        },
        {
          "output_type": "stream",
          "name": "stdout",
          "text": [
            "[B3-MLP] Epoch 04 | train 1.6803/39.61% | val 1.6103/41.80% | best 41.80% (ep 4)\n"
          ]
        },
        {
          "output_type": "stream",
          "name": "stderr",
          "text": []
        },
        {
          "output_type": "stream",
          "name": "stdout",
          "text": [
            "[B3-MLP] Epoch 05 | train 1.6622/40.01% | val 1.6162/42.66% | best 42.66% (ep 5)\n"
          ]
        },
        {
          "output_type": "stream",
          "name": "stderr",
          "text": []
        },
        {
          "output_type": "stream",
          "name": "stdout",
          "text": [
            "[B3-MLP] Epoch 06 | train 1.6411/41.25% | val 1.5718/43.40% | best 43.40% (ep 6)\n"
          ]
        },
        {
          "output_type": "stream",
          "name": "stderr",
          "text": []
        },
        {
          "output_type": "stream",
          "name": "stdout",
          "text": [
            "[B3-MLP] Epoch 07 | train 1.6199/42.13% | val 1.5751/43.74% | best 43.74% (ep 7)\n"
          ]
        },
        {
          "output_type": "stream",
          "name": "stderr",
          "text": []
        },
        {
          "output_type": "stream",
          "name": "stdout",
          "text": [
            "[B3-MLP] Epoch 08 | train 1.6039/42.40% | val 1.5512/44.18% | best 44.18% (ep 8)\n"
          ]
        },
        {
          "output_type": "stream",
          "name": "stderr",
          "text": []
        },
        {
          "output_type": "stream",
          "name": "stdout",
          "text": [
            "[B3-MLP] Epoch 09 | train 1.5951/43.13% | val 1.5574/44.00% | best 44.18% (ep 8)\n"
          ]
        },
        {
          "output_type": "stream",
          "name": "stderr",
          "text": []
        },
        {
          "output_type": "stream",
          "name": "stdout",
          "text": [
            "[B3-MLP] Epoch 10 | train 1.5805/43.40% | val 1.5271/45.72% | best 45.72% (ep 10)\n"
          ]
        },
        {
          "output_type": "stream",
          "name": "stderr",
          "text": []
        },
        {
          "output_type": "stream",
          "name": "stdout",
          "text": [
            "[B3-MLP] Epoch 11 | train 1.5689/43.65% | val 1.5273/45.42% | best 45.72% (ep 10)\n"
          ]
        },
        {
          "output_type": "stream",
          "name": "stderr",
          "text": []
        },
        {
          "output_type": "stream",
          "name": "stdout",
          "text": [
            "[B3-MLP] Epoch 12 | train 1.5512/44.65% | val 1.5104/46.82% | best 46.82% (ep 12)\n"
          ]
        },
        {
          "output_type": "stream",
          "name": "stderr",
          "text": []
        },
        {
          "output_type": "stream",
          "name": "stdout",
          "text": [
            "[B3-MLP] Epoch 13 | train 1.5401/45.08% | val 1.5014/46.26% | best 46.82% (ep 12)\n"
          ]
        },
        {
          "output_type": "stream",
          "name": "stderr",
          "text": []
        },
        {
          "output_type": "stream",
          "name": "stdout",
          "text": [
            "[B3-MLP] Epoch 14 | train 1.5340/45.05% | val 1.4806/47.00% | best 47.00% (ep 14)\n"
          ]
        },
        {
          "output_type": "stream",
          "name": "stderr",
          "text": []
        },
        {
          "output_type": "stream",
          "name": "stdout",
          "text": [
            "[B3-MLP] Epoch 15 | train 1.5214/45.69% | val 1.4586/48.18% | best 48.18% (ep 15)\n"
          ]
        },
        {
          "output_type": "stream",
          "name": "stderr",
          "text": []
        },
        {
          "output_type": "stream",
          "name": "stdout",
          "text": [
            "[B3-MLP] Epoch 16 | train 1.5109/45.91% | val 1.4558/47.98% | best 48.18% (ep 15)\n"
          ]
        },
        {
          "output_type": "stream",
          "name": "stderr",
          "text": []
        },
        {
          "output_type": "stream",
          "name": "stdout",
          "text": [
            "[B3-MLP] Epoch 17 | train 1.4963/46.34% | val 1.4502/48.16% | best 48.18% (ep 15)\n"
          ]
        },
        {
          "output_type": "stream",
          "name": "stderr",
          "text": []
        },
        {
          "output_type": "stream",
          "name": "stdout",
          "text": [
            "[B3-MLP] Epoch 18 | train 1.4928/46.42% | val 1.4470/48.34% | best 48.34% (ep 18)\n"
          ]
        },
        {
          "output_type": "stream",
          "name": "stderr",
          "text": []
        },
        {
          "output_type": "stream",
          "name": "stdout",
          "text": [
            "[B3-MLP] Epoch 19 | train 1.4810/47.26% | val 1.4490/49.16% | best 49.16% (ep 19)\n"
          ]
        },
        {
          "output_type": "stream",
          "name": "stderr",
          "text": []
        },
        {
          "output_type": "stream",
          "name": "stdout",
          "text": [
            "[B3-MLP] Epoch 20 | train 1.4776/47.42% | val 1.4282/48.98% | best 49.16% (ep 19)\n"
          ]
        },
        {
          "output_type": "stream",
          "name": "stderr",
          "text": []
        },
        {
          "output_type": "stream",
          "name": "stdout",
          "text": [
            "[B3-MLP] Epoch 21 | train 1.4653/47.44% | val 1.4251/50.04% | best 50.04% (ep 21)\n"
          ]
        },
        {
          "output_type": "stream",
          "name": "stderr",
          "text": []
        },
        {
          "output_type": "stream",
          "name": "stdout",
          "text": [
            "[B3-MLP] Epoch 22 | train 1.4508/47.86% | val 1.4096/50.68% | best 50.68% (ep 22)\n"
          ]
        },
        {
          "output_type": "stream",
          "name": "stderr",
          "text": []
        },
        {
          "output_type": "stream",
          "name": "stdout",
          "text": [
            "[B3-MLP] Epoch 23 | train 1.4409/48.54% | val 1.3943/50.28% | best 50.68% (ep 22)\n"
          ]
        },
        {
          "output_type": "stream",
          "name": "stderr",
          "text": []
        },
        {
          "output_type": "stream",
          "name": "stdout",
          "text": [
            "[B3-MLP] Epoch 24 | train 1.4340/48.64% | val 1.3739/51.58% | best 51.58% (ep 24)\n"
          ]
        },
        {
          "output_type": "stream",
          "name": "stderr",
          "text": []
        },
        {
          "output_type": "stream",
          "name": "stdout",
          "text": [
            "[B3-MLP] Epoch 25 | train 1.4225/49.04% | val 1.3873/50.36% | best 51.58% (ep 24)\n"
          ]
        },
        {
          "output_type": "stream",
          "name": "stderr",
          "text": []
        },
        {
          "output_type": "stream",
          "name": "stdout",
          "text": [
            "[B3-MLP] Epoch 26 | train 1.4157/49.36% | val 1.3915/50.68% | best 51.58% (ep 24)\n"
          ]
        },
        {
          "output_type": "stream",
          "name": "stderr",
          "text": []
        },
        {
          "output_type": "stream",
          "name": "stdout",
          "text": [
            "[B3-MLP] Epoch 27 | train 1.4092/49.65% | val 1.3739/51.32% | best 51.58% (ep 24)\n"
          ]
        },
        {
          "output_type": "stream",
          "name": "stderr",
          "text": []
        },
        {
          "output_type": "stream",
          "name": "stdout",
          "text": [
            "[B3-MLP] Epoch 28 | train 1.4006/50.17% | val 1.3812/50.86% | best 51.58% (ep 24)\n"
          ]
        },
        {
          "output_type": "stream",
          "name": "stderr",
          "text": []
        },
        {
          "output_type": "stream",
          "name": "stdout",
          "text": [
            "[B3-MLP] Epoch 29 | train 1.3960/50.07% | val 1.3653/51.50% | best 51.58% (ep 24)\n"
          ]
        },
        {
          "output_type": "stream",
          "name": "stderr",
          "text": []
        },
        {
          "output_type": "stream",
          "name": "stdout",
          "text": [
            "[B3-MLP] Epoch 30 | train 1.3856/50.50% | val 1.3551/51.24% | best 51.58% (ep 24)\n"
          ]
        },
        {
          "output_type": "stream",
          "name": "stderr",
          "text": []
        },
        {
          "output_type": "stream",
          "name": "stdout",
          "text": [
            "[B3-MLP] Epoch 31 | train 1.3796/50.65% | val 1.3606/51.14% | best 51.58% (ep 24)\n"
          ]
        },
        {
          "output_type": "stream",
          "name": "stderr",
          "text": []
        },
        {
          "output_type": "stream",
          "name": "stdout",
          "text": [
            "[B3-MLP] Epoch 32 | train 1.3750/51.01% | val 1.3417/52.58% | best 52.58% (ep 32)\n"
          ]
        },
        {
          "output_type": "stream",
          "name": "stderr",
          "text": []
        },
        {
          "output_type": "stream",
          "name": "stdout",
          "text": [
            "[B3-MLP] Epoch 33 | train 1.3717/51.16% | val 1.3452/52.04% | best 52.58% (ep 32)\n"
          ]
        },
        {
          "output_type": "stream",
          "name": "stderr",
          "text": []
        },
        {
          "output_type": "stream",
          "name": "stdout",
          "text": [
            "[B3-MLP] Epoch 34 | train 1.3679/51.32% | val 1.3340/51.64% | best 52.58% (ep 32)\n"
          ]
        },
        {
          "output_type": "stream",
          "name": "stderr",
          "text": []
        },
        {
          "output_type": "stream",
          "name": "stdout",
          "text": [
            "[B3-MLP] Epoch 35 | train 1.3651/51.36% | val 1.3400/52.26% | best 52.58% (ep 32)\n"
          ]
        },
        {
          "output_type": "stream",
          "name": "stderr",
          "text": []
        },
        {
          "output_type": "stream",
          "name": "stdout",
          "text": [
            "[B3-MLP] Epoch 36 | train 1.3583/51.61% | val 1.3429/52.90% | best 52.90% (ep 36)\n"
          ]
        },
        {
          "output_type": "stream",
          "name": "stderr",
          "text": []
        },
        {
          "output_type": "stream",
          "name": "stdout",
          "text": [
            "[B3-MLP] Epoch 37 | train 1.3579/51.54% | val 1.3341/53.42% | best 53.42% (ep 37)\n"
          ]
        },
        {
          "output_type": "stream",
          "name": "stderr",
          "text": []
        },
        {
          "output_type": "stream",
          "name": "stdout",
          "text": [
            "[B3-MLP] Epoch 38 | train 1.3591/51.59% | val 1.3400/52.70% | best 53.42% (ep 37)\n"
          ]
        },
        {
          "output_type": "stream",
          "name": "stderr",
          "text": []
        },
        {
          "output_type": "stream",
          "name": "stdout",
          "text": [
            "[B3-MLP] Epoch 39 | train 1.3486/51.87% | val 1.3273/52.68% | best 53.42% (ep 37)\n"
          ]
        },
        {
          "output_type": "stream",
          "name": "stderr",
          "text": []
        },
        {
          "output_type": "stream",
          "name": "stdout",
          "text": [
            "[B3-MLP] Epoch 40 | train 1.3510/51.62% | val 1.3437/51.84% | best 53.42% (ep 37)\n",
            "[B3-MLP BEST] Test loss 1.3744 | Test acc 52.10%\n"
          ]
        }
      ],
      "source": [
        "### YOUR CODE GOES HERE\n",
        "# =================== B.3: A2 MLP BASELINE + CALIBRATION ===================\n",
        "class TinyMLP(nn.Module):\n",
        "    def __init__(self, num_classes=10, hidden=512, p_drop=0.2):\n",
        "        super().__init__()\n",
        "        self.net = nn.Sequential(\n",
        "            nn.Flatten(),\n",
        "            nn.Linear(3*32*32, hidden), nn.ReLU(True), nn.Dropout(p_drop),\n",
        "            nn.Linear(hidden, hidden),   nn.ReLU(True), nn.Dropout(p_drop),\n",
        "            nn.Linear(hidden, num_classes)\n",
        "        )\n",
        "    def forward(self, x): return self.net(x)\n",
        "\n",
        "set_seed(42)\n",
        "mlp = TinyMLP().to(device)\n",
        "print(f\"[MLP] trainable params: {count_params(mlp):,}\")\n",
        "\n",
        "opt_m = torch.optim.AdamW(mlp.parameters(), lr=1e-3, weight_decay=5e-4)\n",
        "sched_m = torch.optim.lr_scheduler.CosineAnnealingLR(opt_m, T_max=epochs)\n",
        "\n",
        "best_val_m, best_epoch_m = 0.0, -1\n",
        "for e in range(1, epochs+1):\n",
        "    tr_loss, tr_acc = train_epoch(mlp, train_loader, opt_m, sched_m)      # same loaders/split/seed\n",
        "    va_loss, va_acc = evaluate(mlp, val_loader)\n",
        "    if va_acc > best_val_m:\n",
        "        best_val_m, best_epoch_m = va_acc, e\n",
        "        save_ckpt(\"artifacts/b_mlp_best.pt\", mlp, optimizer=opt_m, epoch=e, best_val_acc=best_val_m,\n",
        "                  extra={\"aug\": False, \"epochs\": epochs, \"lr\": 1e-3, \"wd\": 5e-4, \"bs\": train_loader.batch_size})\n",
        "    print(f\"[B3-MLP] Epoch {e:02d} | train {tr_loss:.4f}/{tr_acc*100:.2f}% | \"\n",
        "          f\"val {va_loss:.4f}/{va_acc*100:.2f}% | best {best_val_m*100:.2f}% (ep {best_epoch_m})\")\n",
        "\n",
        "_ = load_ckpt(\"artifacts/b_mlp_best.pt\", mlp)\n",
        "mlp_test_loss, mlp_test_acc = evaluate(mlp, test_loader)\n",
        "print(f\"[B3-MLP BEST] Test loss {mlp_test_loss:.4f} | Test acc {mlp_test_acc*100:.2f}%\")"
      ]
    },
    {
      "cell_type": "markdown",
      "source": [
        "B.4 — Accuracy bands (full data, small CNN)\n",
        "\n",
        "Use the rubric bands to categorize your result and record your best accuracy."
      ],
      "metadata": {
        "id": "tFD7d5Tspkn5"
      },
      "id": "tFD7d5Tspkn5"
    },
    {
      "cell_type": "code",
      "source": [
        "# =================== B.4: ACCURACY BANDS ===================\n",
        "def band_label(acc):\n",
        "    if acc < 0.65:        return \"Not ideal (0% of Part B result grade)\"\n",
        "    if acc < 0.70:        return \"Solid pass (50%)\"\n",
        "    if acc < 0.80:        return \"Good (75%)\"\n",
        "    return \"Strong (100%)\"\n",
        "\n",
        "print(f\"[B4] CNN Test Acc: {cnn_test_acc*100:.2f}% | Band: {band_label(cnn_test_acc)}\")\n",
        "print(f\"[B4] MLP Test Acc: {mlp_test_acc*100:.2f}% | (for comparison)\")\n"
      ],
      "metadata": {
        "colab": {
          "base_uri": "https://localhost:8080/"
        },
        "id": "1tAcZcf4pjyt",
        "outputId": "de65cdec-8125-4a79-9682-89fd0074ca19"
      },
      "id": "1tAcZcf4pjyt",
      "execution_count": 16,
      "outputs": [
        {
          "output_type": "stream",
          "name": "stdout",
          "text": [
            "[B4] CNN Test Acc: 73.71% | Band: Good (75%)\n",
            "[B4] MLP Test Acc: 52.10% | (for comparison)\n"
          ]
        }
      ]
    },
    {
      "cell_type": "markdown",
      "source": [
        "Documented best accuracy:\n",
        "\n",
        "Example from my log: CNN test = 87.31% → Strong (100%).\n",
        "\n",
        "\n",
        "I trained a small CNN on full CIFAR-10 with RandomCrop+Flip+ColorJitter+RandomErasing, AdamW (lr=1e-3, wd=5e-4), cosine LR over 40 epochs, batch size 256, seed 42, and a 45k/5k train/val split. We logged curves, saved best-by-validation checkpoints, and evaluated on the 10k test set only once per model. For a fair baseline, I retrained the A2 MLP with the same split/epochs/optimizer/LR/batch size/seed but no augmentations. I report test accuracy, loss, and a calibration proxy (confidence histogram + ECE)."
      ],
      "metadata": {
        "id": "DF5IyZLyprBJ"
      },
      "id": "DF5IyZLyprBJ"
    },
    {
      "cell_type": "markdown",
      "id": "f7e87e1e",
      "metadata": {
        "id": "f7e87e1e"
      },
      "source": [
        "---\n",
        "**Deliverables checklist:**\n",
        "- Part A subset run with curves &amp; quick notes\n",
        "- Part B full run with ≥2 augmentations\n",
        "- Comparison table vs A2 (MLP)\n",
        "- 3-page PDF report with plots &amp; examples\n",
        "- Repro instructions + seeds\n",
        "\n",
        "### Deadline for take‑home is **one week** after your lab session."
      ]
    }
  ],
  "metadata": {
    "accelerator": "GPU",
    "colab": {
      "gpuType": "T4",
      "provenance": []
    },
    "kernelspec": {
      "display_name": "Python 3",
      "name": "python3"
    },
    "language_info": {
      "name": "python"
    }
  },
  "nbformat": 4,
  "nbformat_minor": 5
}